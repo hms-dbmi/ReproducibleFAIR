{
 "cells": [
  {
   "cell_type": "markdown",
   "metadata": {},
   "source": [
    "# Statistical analysis on NHANES data collected between 2009 and 2012"
   ]
  },
  {
   "cell_type": "markdown",
   "metadata": {},
   "source": [
    "Before starting the process, let's have a quick look to the software environment :"
   ]
  },
  {
   "cell_type": "code",
   "execution_count": 1,
   "metadata": {
    "collapsed": false
   },
   "outputs": [
    {
     "data": {
      "text/plain": [
       "R version 3.3.1 (2016-06-21)\n",
       "Platform: x86_64-pc-linux-gnu (64-bit)\n",
       "Running under: Debian GNU/Linux 8 (jessie)\n",
       "\n",
       "locale:\n",
       " [1] LC_CTYPE=en_US.UTF-8       LC_NUMERIC=C              \n",
       " [3] LC_TIME=en_US.UTF-8        LC_COLLATE=en_US.UTF-8    \n",
       " [5] LC_MONETARY=en_US.UTF-8    LC_MESSAGES=en_US.UTF-8   \n",
       " [7] LC_PAPER=en_US.UTF-8       LC_NAME=C                 \n",
       " [9] LC_ADDRESS=C               LC_TELEPHONE=C            \n",
       "[11] LC_MEASUREMENT=en_US.UTF-8 LC_IDENTIFICATION=C       \n",
       "\n",
       "attached base packages:\n",
       "[1] stats     graphics  grDevices utils     datasets  methods   base     \n",
       "\n",
       "loaded via a namespace (and not attached):\n",
       " [1] magrittr_1.5         IRdisplay_0.5.0      pbdZMQ_0.3-3        \n",
       " [4] tools_3.3.1          htmltools_0.3.6      base64enc_0.1-3     \n",
       " [7] crayon_1.3.4         Rcpp_0.12.17         uuid_0.1-2          \n",
       "[10] stringi_1.2.3        IRkernel_0.8.12.9000 jsonlite_1.5        \n",
       "[13] stringr_1.3.1        digest_0.6.15        repr_0.15.0         \n",
       "[16] evaluate_0.10.1     "
      ]
     },
     "metadata": {},
     "output_type": "display_data"
    }
   ],
   "source": [
    "sessionInfo()"
   ]
  },
  {
   "cell_type": "markdown",
   "metadata": {},
   "source": [
    "We can see that the `R version` of the Jupyter notebook is `3.3.1` and the OS is Debian GNU/Linux 8. These elements might be important if a user tries to re-create the exact software-environment."
   ]
  },
  {
   "cell_type": "markdown",
   "metadata": {},
   "source": [
    "Assuming you are currently using either Jupyter notebook or mybinder and wants to reproduce the workflow, you need to erase all the cells outputs and then execute the code again. In order to so, click on Kernel > Restart & clear output. Then you can execute the code by selecting a cell and clicking on the run button (or by using the appropriate shortcut mentioned in the Help section). You can interact with the code and edit it all along the notebook.\n",
    "\n",
    "_More information on how to use Jupyter notebook at http://jupyter.org/documentation _\n",
    "\n",
    "Be aware that some lines of code might take a few seconds or minutes to be executed.\n",
    "\n",
    "The present notebook is divided in five parts :\n",
    "1. Connection to the MRAN repository and loading of packages \n",
    "2. Query of data\n",
    "3. Data management\n",
    "4. Descriptive statistics\n",
    "5. Statistical analysis (_Testing of the association between having a sugar-free diet and the waist circumference_)"
   ]
  },
  {
   "cell_type": "markdown",
   "metadata": {},
   "source": [
    "# 1) Connection to the MRAN repository and loading of packages "
   ]
  },
  {
   "cell_type": "markdown",
   "metadata": {},
   "source": [
    "CRAN is a package repository of the programming language R. Packages tend to get many updates over time and MRAN enables to retrieve packages with 'frozen' versions corresponding to a specific date (in our illustration the date is set to 2018-07-06). MRAN basically consists of daily snapshots of CRAN. Extracting versions of different packages set on a specific date facilitates consistency between packages and reproducibility. More information on : https://cran.r-project.org/ and https://mran.microsoft.com/ .\n",
    "\n",
    "The line of code below sets the repository to MRAN instead of the default CRAN. (_When executing this code on mybinder it is facultative to run the next cell since the `runtime.txt` file in the Github repository already specifies it_)"
   ]
  },
  {
   "cell_type": "code",
   "execution_count": 2,
   "metadata": {
    "collapsed": true
   },
   "outputs": [],
   "source": [
    "options(repos = c(CRAN = \"https://mran.revolutionanalytics.com/snapshot/2018-07-06\"))"
   ]
  },
  {
   "cell_type": "markdown",
   "metadata": {},
   "source": [
    "We can check with the line of code below that the repository used to install packages is correctly set to MRAN. You should get a URL that contains 'mran' and the date mentioned above."
   ]
  },
  {
   "cell_type": "code",
   "execution_count": 3,
   "metadata": {
    "collapsed": false
   },
   "outputs": [
    {
     "data": {
      "text/html": [
       "<strong>CRAN:</strong> 'https://mran.revolutionanalytics.com/snapshot/2018-07-06'"
      ],
      "text/latex": [
       "\\textbf{CRAN:} 'https://mran.revolutionanalytics.com/snapshot/2018-07-06'"
      ],
      "text/markdown": [
       "**CRAN:** 'https://mran.revolutionanalytics.com/snapshot/2018-07-06'"
      ],
      "text/plain": [
       "                                                      CRAN \n",
       "\"https://mran.revolutionanalytics.com/snapshot/2018-07-06\" "
      ]
     },
     "metadata": {},
     "output_type": "display_data"
    }
   ],
   "source": [
    "getOption(\"repos\")"
   ]
  },
  {
   "cell_type": "markdown",
   "metadata": {},
   "source": [
    "Since the installation of every packages (except `Rcupcake` package which requires the `install_github()` function) is already done by the `install.R` file in the Github repository, there is no need to execute the `install.packages()` function here. However, for more clarity, we mentionned the line of code necessary for the installation of packages after the \"#\" symbol (\"#\" prevents the code to be executed)."
   ]
  },
  {
   "cell_type": "markdown",
   "metadata": {},
   "source": [
    "### dplyr package installation"
   ]
  },
  {
   "cell_type": "code",
   "execution_count": 4,
   "metadata": {
    "collapsed": false
   },
   "outputs": [
    {
     "name": "stderr",
     "output_type": "stream",
     "text": [
      "\n",
      "Attaching package: ‘dplyr’\n",
      "\n",
      "The following objects are masked from ‘package:stats’:\n",
      "\n",
      "    filter, lag\n",
      "\n",
      "The following objects are masked from ‘package:base’:\n",
      "\n",
      "    intersect, setdiff, setequal, union\n",
      "\n"
     ]
    }
   ],
   "source": [
    "#install.packages(\"dplyr\")\n",
    "library(dplyr)"
   ]
  },
  {
   "cell_type": "markdown",
   "metadata": {},
   "source": [
    "### prettyR package installation"
   ]
  },
  {
   "cell_type": "code",
   "execution_count": 5,
   "metadata": {
    "collapsed": false
   },
   "outputs": [],
   "source": [
    "#install.packages(\"prettyR\")\n",
    "library(prettyR)"
   ]
  },
  {
   "cell_type": "markdown",
   "metadata": {},
   "source": [
    "### knitr package installation "
   ]
  },
  {
   "cell_type": "code",
   "execution_count": 6,
   "metadata": {
    "collapsed": false
   },
   "outputs": [],
   "source": [
    "#install.packages(\"knitr\")\n",
    "library(knitr)"
   ]
  },
  {
   "cell_type": "markdown",
   "metadata": {},
   "source": [
    "### devtools package installation "
   ]
  },
  {
   "cell_type": "code",
   "execution_count": 7,
   "metadata": {
    "collapsed": false
   },
   "outputs": [],
   "source": [
    "#install.packages(\"devtools\")\n",
    "library(devtools)"
   ]
  },
  {
   "cell_type": "markdown",
   "metadata": {},
   "source": [
    "### Installation of BiocInstaller package\n",
    "_This package is necessary to the installation of `Rcupcake package`. Here we specified the repository in the code because it is not part of the CRAN._"
   ]
  },
  {
   "cell_type": "code",
   "execution_count": 8,
   "metadata": {
    "collapsed": false
   },
   "outputs": [
    {
     "name": "stderr",
     "output_type": "stream",
     "text": [
      "Bioconductor version 3.4 (BiocInstaller 1.24.0), ?biocLite for help\n",
      "A new version of Bioconductor is available after installing the most recent\n",
      "  version of R; see http://bioconductor.org/install\n"
     ]
    }
   ],
   "source": [
    "#install.packages(\"BiocInstaller\", repos = \"http://www.bioconductor.org/packages/3.5/bioc\")\n",
    "library(BiocInstaller)"
   ]
  },
  {
   "cell_type": "markdown",
   "metadata": {},
   "source": [
    "### Rcupcake package installation"
   ]
  },
  {
   "cell_type": "markdown",
   "metadata": {},
   "source": [
    "Before starting the installation of the package you need to indicate the location of the TAR application by `/bin/tar`.\n",
    "\n",
    "More information on how to install `Rcupcake` at : https://github.com/hms-dbmi/Rcupcake-case-studies/blob/master/NHANEScaseStudy_v01.ipynb"
   ]
  },
  {
   "cell_type": "code",
   "execution_count": 9,
   "metadata": {
    "collapsed": true
   },
   "outputs": [],
   "source": [
    "if (file.exists(Sys.getenv(\"TAR\")) == FALSE)  {\n",
    "    Sys.setenv(TAR = \"/bin/tar\")\n",
    "}"
   ]
  },
  {
   "cell_type": "markdown",
   "metadata": {},
   "source": [
    "**The installation of `Rcupcake` might take up to 10 minutes.**"
   ]
  },
  {
   "cell_type": "code",
   "execution_count": 10,
   "metadata": {
    "collapsed": false
   },
   "outputs": [
    {
     "name": "stderr",
     "output_type": "stream",
     "text": [
      "Downloading GitHub repo hms-dbmi/Rcupcake@master\n",
      "from URL https://api.github.com/repos/hms-dbmi/Rcupcake/zipball/master\n",
      "Installing Rcupcake\n",
      "'/opt/conda/lib/R/bin/R' --no-site-file --no-environ --no-save --no-restore  \\\n",
      "  --quiet CMD INSTALL  \\\n",
      "  '/tmp/RtmptQh4om/devtools1951e7c2c1fa3/hms-dbmi-Rcupcake-425c4b5'  \\\n",
      "  --library='/opt/conda/lib/R/library' --install-tests \n",
      "\n"
     ]
    }
   ],
   "source": [
    "install_github(\"hms-dbmi/Rcupcake\", force = TRUE)\n",
    "library(Rcupcake)"
   ]
  },
  {
   "cell_type": "markdown",
   "metadata": {},
   "source": [
    "** If you want to skip the query of the data and start directly at the data management part, make sure the \"NHANES.text\" file is in the directory you are working in and execute the following line of code in a new cell:**\n",
    "```\n",
    "nhanes_query <- read.table(\"NHANES.txt\", sep=\"\", header = TRUE)\n",
    "```\n",
    "\n",
    "The NHANES.txt is the NHANES unified dataset _(details are provided in the section 2)_ archived in a csv format on which the analysis will be performed."
   ]
  },
  {
   "cell_type": "markdown",
   "metadata": {},
   "source": [
    "# 2) Query of data"
   ]
  },
  {
   "cell_type": "markdown",
   "metadata": {},
   "source": [
    "Data involved in the following process are National Health and Nutrition Examination Survey (NHANES) public data collected during the 2009-2012 period. The PIC-SURE team has reassembled it from CDC NHANES (https://www.cdc.gov/nchs/nhanes/index.htm) and has created what is called 'NHANES unified dataset' whose content can be found at https://nhanes.hms.harvard.edu/.\n",
    "\n",
    "_For more information on NHANES, PIC-SURE and NHANES unified dataset, click : https://www.cdc.gov/nchs/nhanes/index.htm and https://pic-sure.org/products/nhanes-unified-dataset _"
   ]
  },
  {
   "cell_type": "markdown",
   "metadata": {},
   "source": [
    "## a) Start the session"
   ]
  },
  {
   "cell_type": "markdown",
   "metadata": {},
   "source": [
    "We first need to establish a connection to the database (https://nhanes.hms.harvard.edu/). To do so you first need to erase the api key in quotations and then copy and paste the BD2K PICSURE API Key instead. You can find this key by clicking on \"Public user\" and then \"User profile\" on the link provided.\n",
    "\n",
    "Once the code executed, you should obtain this output : 'Start Session: success'"
   ]
  },
  {
   "cell_type": "code",
   "execution_count": 11,
   "metadata": {
    "collapsed": false
   },
   "outputs": [
    {
     "data": {
      "text/html": [
       "'Start Session: success'"
      ],
      "text/latex": [
       "'Start Session: success'"
      ],
      "text/markdown": [
       "'Start Session: success'"
      ],
      "text/plain": [
       "[1] \"Start Session: success\""
      ]
     },
     "metadata": {},
     "output_type": "display_data"
    }
   ],
   "source": [
    "sessionEx <- start.session( \n",
    "              url         = \"https://nhanes.hms.harvard.edu/\", \n",
    "              apiKey      = \"c2mlhrhlookuodenufeon9nov1\"\n",
    "              )\n",
    "sessionEx"
   ]
  },
  {
   "cell_type": "markdown",
   "metadata": {},
   "source": [
    "The line of code below enables to retrieve the paths of the location of each variable of interest. A vector of these 3 paths is then created."
   ]
  },
  {
   "cell_type": "code",
   "execution_count": 12,
   "metadata": {
    "collapsed": false
   },
   "outputs": [
    {
     "data": {
      "text/html": [
       "<ol class=list-inline>\n",
       "\t<li>'/nhanes/Demo/demographics/demographics/AGE/'</li>\n",
       "\t<li>'/nhanes/Demo/demographics/demographics/area/'</li>\n",
       "\t<li>'/nhanes/Demo/demographics/demographics/DMDBORN/'</li>\n",
       "\t<li>'/nhanes/Demo/demographics/demographics/DMDMARTL/'</li>\n",
       "\t<li>'/nhanes/Demo/demographics/demographics/education/'</li>\n",
       "\t<li>'/nhanes/Demo/demographics/demographics/INDFMPIR/'</li>\n",
       "</ol>\n"
      ],
      "text/latex": [
       "\\begin{enumerate*}\n",
       "\\item '/nhanes/Demo/demographics/demographics/AGE/'\n",
       "\\item '/nhanes/Demo/demographics/demographics/area/'\n",
       "\\item '/nhanes/Demo/demographics/demographics/DMDBORN/'\n",
       "\\item '/nhanes/Demo/demographics/demographics/DMDMARTL/'\n",
       "\\item '/nhanes/Demo/demographics/demographics/education/'\n",
       "\\item '/nhanes/Demo/demographics/demographics/INDFMPIR/'\n",
       "\\end{enumerate*}\n"
      ],
      "text/markdown": [
       "1. '/nhanes/Demo/demographics/demographics/AGE/'\n",
       "2. '/nhanes/Demo/demographics/demographics/area/'\n",
       "3. '/nhanes/Demo/demographics/demographics/DMDBORN/'\n",
       "4. '/nhanes/Demo/demographics/demographics/DMDMARTL/'\n",
       "5. '/nhanes/Demo/demographics/demographics/education/'\n",
       "6. '/nhanes/Demo/demographics/demographics/INDFMPIR/'\n",
       "\n",
       "\n"
      ],
      "text/plain": [
       "[1] \"/nhanes/Demo/demographics/demographics/AGE/\"      \n",
       "[2] \"/nhanes/Demo/demographics/demographics/area/\"     \n",
       "[3] \"/nhanes/Demo/demographics/demographics/DMDBORN/\"  \n",
       "[4] \"/nhanes/Demo/demographics/demographics/DMDMARTL/\" \n",
       "[5] \"/nhanes/Demo/demographics/demographics/education/\"\n",
       "[6] \"/nhanes/Demo/demographics/demographics/INDFMPIR/\" "
      ]
     },
     "metadata": {},
     "output_type": "display_data"
    }
   ],
   "source": [
    "nhanesDemographics <- get.children( \n",
    "   url         = \"https://nhanes.hms.harvard.edu/\", \n",
    "   fieldname   = \"/nhanes/Demo/demographics/demographics/\"\n",
    "  )\n",
    "\n",
    "\n",
    "nhanesFood_recall <- get.children( \n",
    "   url         = \"https://nhanes.hms.harvard.edu/\", \n",
    "   fieldname   = \"/nhanes/Demo/questionnaire/questionnaire/food component recall/\"\n",
    "  )\n",
    "\n",
    "nhanesBody_measurements <- get.children( \n",
    "   url         = \"https://nhanes.hms.harvard.edu/\", \n",
    "   fieldname   = \"/nhanes/Demo/examination/examination/body measures/\"\n",
    "  )\n",
    "\n",
    "nhanesVector <- c( nhanesDemographics, nhanesFood_recall, nhanesBody_measurements)\n",
    "head(nhanesVector)"
   ]
  },
  {
   "cell_type": "markdown",
   "metadata": {},
   "source": [
    "## b) Build a json query"
   ]
  },
  {
   "cell_type": "markdown",
   "metadata": {},
   "source": [
    "Once the paths have been gathered, we can create the JSON query to retrieve the variables of interest."
   ]
  },
  {
   "cell_type": "code",
   "execution_count": 13,
   "metadata": {
    "collapsed": false
   },
   "outputs": [
    {
     "data": {
      "text/plain": [
       "{\n",
       "  \"select\": [\n",
       "    {\n",
       "      \"field\": {\n",
       "        \"pui\": \"/nhanes/Demo/demographics/demographics/AGE/\",\n",
       "        \"dataType\": \"AGE\"\n",
       "      },\n",
       "      \"alias\": \"/nhanes/Demo/demographics/demographics/AGE/\"\n",
       "    },\n",
       "    {\n",
       "      \"field\": {\n",
       "        \"pui\": \"/nhanes/Demo/demographics/demographics/SEX/female/\",\n",
       "        \"dataType\": \"female\"\n",
       "      },\n",
       "      \"alias\": \"/nhanes/Demo/demographics/demographics/SEX/\"\n",
       "    },\n",
       "    {\n",
       "      \"field\": {\n",
       "        \"pui\": \"/nhanes/Demo/demographics/demographics/SEX/male/\",\n",
       "        \"dataType\": \"male\"\n",
       "      },\n",
       "      \"alias\": \"/nhanes/Demo/demographics/demographics/SEX/\"\n",
       "    },\n",
       "    {\n",
       "      \"field\": {\n",
       "        \"pui\": \"/nhanes/Demo/questionnaire/questionnaire/food component recall/Sugarfree Diet/\",\n",
       "        \"dataType\": \"Sugarfree Diet\"\n",
       "      },\n",
       "      \"alias\": \"/nhanes/Demo/questionnaire/questionnaire/food component recall/Sugarfree Diet/\"\n",
       "    },\n",
       "    {\n",
       "      \"field\": {\n",
       "        \"pui\": \"/nhanes/Demo/examination/examination/body measures/Body Mass Index (kg per m**2)/\",\n",
       "        \"dataType\": \"Body Mass Index (kg per m**2)\"\n",
       "      },\n",
       "      \"alias\": \"/nhanes/Demo/examination/examination/body measures/Body Mass Index (kg per m**2)/\"\n",
       "    },\n",
       "    {\n",
       "      \"field\": {\n",
       "        \"pui\": \"/nhanes/Demo/examination/examination/body measures/Waist Circumference (cm)/\",\n",
       "        \"dataType\": \"Waist Circumference (cm)\"\n",
       "      },\n",
       "      \"alias\": \"/nhanes/Demo/examination/examination/body measures/Waist Circumference (cm)/\"\n",
       "    }\n",
       "  ],\n",
       "  \"where\": [\n",
       "    {\n",
       "      \"field\": {\n",
       "        \"pui\": \"/nhanes/Demo/demographics/demographics/AGE/\",\n",
       "        \"dataType\": \"STRING\"\n",
       "      },\n",
       "      \"predicate\": \"CONTAINS\",\n",
       "      \"fields\": {\n",
       "        \"ENCOUNTER\": \"YES\"\n",
       "      }\n",
       "    }\n",
       "  ]\n",
       "} "
      ]
     },
     "metadata": {},
     "output_type": "display_data"
    }
   ],
   "source": [
    "query_example <- my.query( myfields  = \"AGE|SEX|Body Mass Index (kg per m**2)|Waist Circumference (cm)|Sugarfree Diet\", \n",
    "                          myvector  = nhanesVector, \n",
    "                          url       = \"https://nhanes.hms.harvard.edu/\"\n",
    "              )\n",
    "query_example"
   ]
  },
  {
   "cell_type": "markdown",
   "metadata": {},
   "source": [
    "## c) Create a dataframe from the json query"
   ]
  },
  {
   "cell_type": "markdown",
   "metadata": {},
   "source": [
    "Once the json query has been built, we can finally create our dataframe (`nhanes_query`) on which analysis will be performed. The format (`csv`) and the path of the output (`./dataNHANES.txt`) need to be specified in the code.\n",
    "\n",
    "Note that the creation of the dataframe might take a few minutes."
   ]
  },
  {
   "cell_type": "code",
   "execution_count": 14,
   "metadata": {
    "collapsed": true
   },
   "outputs": [],
   "source": [
    "nhanes_query <- my.data( \n",
    "    query          = query_example,\n",
    "    url            = \"https://nhanes.hms.harvard.edu/\", \n",
    "    responseFormat = \"CSV\", \n",
    "    outputPath     = \"./NHANES.txt\")"
   ]
  },
  {
   "cell_type": "markdown",
   "metadata": {},
   "source": [
    "Here's a view of the six first rows of `nhanes_query` :"
   ]
  },
  {
   "cell_type": "code",
   "execution_count": 15,
   "metadata": {
    "collapsed": false
   },
   "outputs": [
    {
     "data": {
      "text/html": [
       "<table>\n",
       "<thead><tr><th scope=col>patient_id</th><th scope=col>X.nhanes.Demo.demographics.demographics.SEX.</th><th scope=col>X.nhanes.Demo.questionnaire.questionnaire.food.component.recall.Sugarfree.Diet.</th><th scope=col>X.nhanes.Demo.demographics.demographics.AGE.</th><th scope=col>X.nhanes.Demo.examination.examination.body.measures.Waist.Circumference..cm..</th><th scope=col>X.nhanes.Demo.examination.examination.body.measures.Body.Mass.Index..kg.per.m..2..</th></tr></thead>\n",
       "<tbody>\n",
       "\t<tr><td> 2   </td><td>male </td><td> 0   </td><td>85   </td><td> 99.4</td><td>26.32</td></tr>\n",
       "\t<tr><td> 5   </td><td>male </td><td> 0   </td><td>18   </td><td>   NA</td><td>22.58</td></tr>\n",
       "\t<tr><td> 7   </td><td>male </td><td> 0   </td><td>31   </td><td>110.1</td><td>33.09</td></tr>\n",
       "\t<tr><td> 9   </td><td>male </td><td> 0   </td><td>52   </td><td> 90.2</td><td>21.10</td></tr>\n",
       "\t<tr><td>10   </td><td>male </td><td>NA   </td><td>25   </td><td>103.2</td><td>30.12</td></tr>\n",
       "\t<tr><td>18   </td><td>male </td><td>NA   </td><td>40   </td><td>100.0</td><td>28.97</td></tr>\n",
       "</tbody>\n",
       "</table>\n"
      ],
      "text/latex": [
       "\\begin{tabular}{r|llllll}\n",
       " patient\\_id & X.nhanes.Demo.demographics.demographics.SEX. & X.nhanes.Demo.questionnaire.questionnaire.food.component.recall.Sugarfree.Diet. & X.nhanes.Demo.demographics.demographics.AGE. & X.nhanes.Demo.examination.examination.body.measures.Waist.Circumference..cm.. & X.nhanes.Demo.examination.examination.body.measures.Body.Mass.Index..kg.per.m..2..\\\\\n",
       "\\hline\n",
       "\t  2    & male  &  0    & 85    &  99.4 & 26.32\\\\\n",
       "\t  5    & male  &  0    & 18    &    NA & 22.58\\\\\n",
       "\t  7    & male  &  0    & 31    & 110.1 & 33.09\\\\\n",
       "\t  9    & male  &  0    & 52    &  90.2 & 21.10\\\\\n",
       "\t 10    & male  & NA    & 25    & 103.2 & 30.12\\\\\n",
       "\t 18    & male  & NA    & 40    & 100.0 & 28.97\\\\\n",
       "\\end{tabular}\n"
      ],
      "text/markdown": [
       "\n",
       "patient_id | X.nhanes.Demo.demographics.demographics.SEX. | X.nhanes.Demo.questionnaire.questionnaire.food.component.recall.Sugarfree.Diet. | X.nhanes.Demo.demographics.demographics.AGE. | X.nhanes.Demo.examination.examination.body.measures.Waist.Circumference..cm.. | X.nhanes.Demo.examination.examination.body.measures.Body.Mass.Index..kg.per.m..2.. | \n",
       "|---|---|---|---|---|---|\n",
       "|  2    | male  |  0    | 85    |  99.4 | 26.32 | \n",
       "|  5    | male  |  0    | 18    |    NA | 22.58 | \n",
       "|  7    | male  |  0    | 31    | 110.1 | 33.09 | \n",
       "|  9    | male  |  0    | 52    |  90.2 | 21.10 | \n",
       "| 10    | male  | NA    | 25    | 103.2 | 30.12 | \n",
       "| 18    | male  | NA    | 40    | 100.0 | 28.97 | \n",
       "\n",
       "\n"
      ],
      "text/plain": [
       "  patient_id X.nhanes.Demo.demographics.demographics.SEX.\n",
       "1  2         male                                        \n",
       "2  5         male                                        \n",
       "3  7         male                                        \n",
       "4  9         male                                        \n",
       "5 10         male                                        \n",
       "6 18         male                                        \n",
       "  X.nhanes.Demo.questionnaire.questionnaire.food.component.recall.Sugarfree.Diet.\n",
       "1  0                                                                             \n",
       "2  0                                                                             \n",
       "3  0                                                                             \n",
       "4  0                                                                             \n",
       "5 NA                                                                             \n",
       "6 NA                                                                             \n",
       "  X.nhanes.Demo.demographics.demographics.AGE.\n",
       "1 85                                          \n",
       "2 18                                          \n",
       "3 31                                          \n",
       "4 52                                          \n",
       "5 25                                          \n",
       "6 40                                          \n",
       "  X.nhanes.Demo.examination.examination.body.measures.Waist.Circumference..cm..\n",
       "1  99.4                                                                        \n",
       "2    NA                                                                        \n",
       "3 110.1                                                                        \n",
       "4  90.2                                                                        \n",
       "5 103.2                                                                        \n",
       "6 100.0                                                                        \n",
       "  X.nhanes.Demo.examination.examination.body.measures.Body.Mass.Index..kg.per.m..2..\n",
       "1 26.32                                                                             \n",
       "2 22.58                                                                             \n",
       "3 33.09                                                                             \n",
       "4 21.10                                                                             \n",
       "5 30.12                                                                             \n",
       "6 28.97                                                                             "
      ]
     },
     "metadata": {},
     "output_type": "display_data"
    }
   ],
   "source": [
    "head(nhanes_query)"
   ]
  },
  {
   "cell_type": "markdown",
   "metadata": {},
   "source": [
    " # 3) Data management"
   ]
  },
  {
   "cell_type": "markdown",
   "metadata": {},
   "source": [
    "## a) Basic quick overview of variables structure"
   ]
  },
  {
   "cell_type": "code",
   "execution_count": 16,
   "metadata": {
    "collapsed": false
   },
   "outputs": [
    {
     "name": "stdout",
     "output_type": "stream",
     "text": [
      "Observations: 41,474\n",
      "Variables: 6\n",
      "$ patient_id                                                                         <int> ...\n",
      "$ X.nhanes.Demo.demographics.demographics.SEX.                                       <fct> ...\n",
      "$ X.nhanes.Demo.questionnaire.questionnaire.food.component.recall.Sugarfree.Diet.    <int> ...\n",
      "$ X.nhanes.Demo.demographics.demographics.AGE.                                       <int> ...\n",
      "$ X.nhanes.Demo.examination.examination.body.measures.Waist.Circumference..cm..      <dbl> ...\n",
      "$ X.nhanes.Demo.examination.examination.body.measures.Body.Mass.Index..kg.per.m..2.. <dbl> ...\n"
     ]
    }
   ],
   "source": [
    "glimpse(nhanes_query)"
   ]
  },
  {
   "cell_type": "markdown",
   "metadata": {},
   "source": [
    "We can see here that the variable names are long and cumbersome to manipulate. Plus the variable adressing the sugar fee diet (yes or no) is considered as integer instead of categorical. We will then modify these in the next steps."
   ]
  },
  {
   "cell_type": "markdown",
   "metadata": {},
   "source": [
    "## b) Modify variables names to make it more manageable"
   ]
  },
  {
   "cell_type": "code",
   "execution_count": 17,
   "metadata": {
    "collapsed": false
   },
   "outputs": [
    {
     "data": {
      "text/html": [
       "<ol class=list-inline>\n",
       "\t<li>'patient_id'</li>\n",
       "\t<li>'X.nhanes.Demo.demographics.demographics.SEX.'</li>\n",
       "\t<li>'X.nhanes.Demo.questionnaire.questionnaire.food.component.recall.Sugarfree.Diet.'</li>\n",
       "\t<li>'X.nhanes.Demo.demographics.demographics.AGE.'</li>\n",
       "\t<li>'X.nhanes.Demo.examination.examination.body.measures.Waist.Circumference..cm..'</li>\n",
       "\t<li>'X.nhanes.Demo.examination.examination.body.measures.Body.Mass.Index..kg.per.m..2..'</li>\n",
       "</ol>\n"
      ],
      "text/latex": [
       "\\begin{enumerate*}\n",
       "\\item 'patient\\_id'\n",
       "\\item 'X.nhanes.Demo.demographics.demographics.SEX.'\n",
       "\\item 'X.nhanes.Demo.questionnaire.questionnaire.food.component.recall.Sugarfree.Diet.'\n",
       "\\item 'X.nhanes.Demo.demographics.demographics.AGE.'\n",
       "\\item 'X.nhanes.Demo.examination.examination.body.measures.Waist.Circumference..cm..'\n",
       "\\item 'X.nhanes.Demo.examination.examination.body.measures.Body.Mass.Index..kg.per.m..2..'\n",
       "\\end{enumerate*}\n"
      ],
      "text/markdown": [
       "1. 'patient_id'\n",
       "2. 'X.nhanes.Demo.demographics.demographics.SEX.'\n",
       "3. 'X.nhanes.Demo.questionnaire.questionnaire.food.component.recall.Sugarfree.Diet.'\n",
       "4. 'X.nhanes.Demo.demographics.demographics.AGE.'\n",
       "5. 'X.nhanes.Demo.examination.examination.body.measures.Waist.Circumference..cm..'\n",
       "6. 'X.nhanes.Demo.examination.examination.body.measures.Body.Mass.Index..kg.per.m..2..'\n",
       "\n",
       "\n"
      ],
      "text/plain": [
       "[1] \"patient_id\"                                                                        \n",
       "[2] \"X.nhanes.Demo.demographics.demographics.SEX.\"                                      \n",
       "[3] \"X.nhanes.Demo.questionnaire.questionnaire.food.component.recall.Sugarfree.Diet.\"   \n",
       "[4] \"X.nhanes.Demo.demographics.demographics.AGE.\"                                      \n",
       "[5] \"X.nhanes.Demo.examination.examination.body.measures.Waist.Circumference..cm..\"     \n",
       "[6] \"X.nhanes.Demo.examination.examination.body.measures.Body.Mass.Index..kg.per.m..2..\""
      ]
     },
     "metadata": {},
     "output_type": "display_data"
    },
    {
     "data": {
      "text/html": [
       "<table>\n",
       "<thead><tr><th scope=col>patient_id</th><th scope=col>sex</th><th scope=col>sugarfree_diet</th><th scope=col>age</th><th scope=col>waist_circumference</th><th scope=col>body_mass_index</th></tr></thead>\n",
       "<tbody>\n",
       "\t<tr><td> 2   </td><td>male </td><td> 0   </td><td>85   </td><td> 99.4</td><td>26.32</td></tr>\n",
       "\t<tr><td> 5   </td><td>male </td><td> 0   </td><td>18   </td><td>   NA</td><td>22.58</td></tr>\n",
       "\t<tr><td> 7   </td><td>male </td><td> 0   </td><td>31   </td><td>110.1</td><td>33.09</td></tr>\n",
       "\t<tr><td> 9   </td><td>male </td><td> 0   </td><td>52   </td><td> 90.2</td><td>21.10</td></tr>\n",
       "\t<tr><td>10   </td><td>male </td><td>NA   </td><td>25   </td><td>103.2</td><td>30.12</td></tr>\n",
       "\t<tr><td>18   </td><td>male </td><td>NA   </td><td>40   </td><td>100.0</td><td>28.97</td></tr>\n",
       "</tbody>\n",
       "</table>\n"
      ],
      "text/latex": [
       "\\begin{tabular}{r|llllll}\n",
       " patient\\_id & sex & sugarfree\\_diet & age & waist\\_circumference & body\\_mass\\_index\\\\\n",
       "\\hline\n",
       "\t  2    & male  &  0    & 85    &  99.4 & 26.32\\\\\n",
       "\t  5    & male  &  0    & 18    &    NA & 22.58\\\\\n",
       "\t  7    & male  &  0    & 31    & 110.1 & 33.09\\\\\n",
       "\t  9    & male  &  0    & 52    &  90.2 & 21.10\\\\\n",
       "\t 10    & male  & NA    & 25    & 103.2 & 30.12\\\\\n",
       "\t 18    & male  & NA    & 40    & 100.0 & 28.97\\\\\n",
       "\\end{tabular}\n"
      ],
      "text/markdown": [
       "\n",
       "patient_id | sex | sugarfree_diet | age | waist_circumference | body_mass_index | \n",
       "|---|---|---|---|---|---|\n",
       "|  2    | male  |  0    | 85    |  99.4 | 26.32 | \n",
       "|  5    | male  |  0    | 18    |    NA | 22.58 | \n",
       "|  7    | male  |  0    | 31    | 110.1 | 33.09 | \n",
       "|  9    | male  |  0    | 52    |  90.2 | 21.10 | \n",
       "| 10    | male  | NA    | 25    | 103.2 | 30.12 | \n",
       "| 18    | male  | NA    | 40    | 100.0 | 28.97 | \n",
       "\n",
       "\n"
      ],
      "text/plain": [
       "  patient_id sex  sugarfree_diet age waist_circumference body_mass_index\n",
       "1  2         male  0             85   99.4               26.32          \n",
       "2  5         male  0             18     NA               22.58          \n",
       "3  7         male  0             31  110.1               33.09          \n",
       "4  9         male  0             52   90.2               21.10          \n",
       "5 10         male NA             25  103.2               30.12          \n",
       "6 18         male NA             40  100.0               28.97          "
      ]
     },
     "metadata": {},
     "output_type": "display_data"
    }
   ],
   "source": [
    "names(nhanes_query)\n",
    "\n",
    "variables <- c('patient_id', 'sex', 'sugarfree_diet', 'age', 'waist_circumference', 'body_mass_index')\n",
    "\n",
    "names(nhanes_query) <- variables\n",
    "\n",
    "head(nhanes_query)"
   ]
  },
  {
   "cell_type": "markdown",
   "metadata": {},
   "source": [
    "## c)Transform the variable `sugarfree_diet` into a categorical variable and label it"
   ]
  },
  {
   "cell_type": "code",
   "execution_count": 18,
   "metadata": {
    "collapsed": true
   },
   "outputs": [],
   "source": [
    "nhanes_query$sugarfree_diet <- factor(nhanes_query$sugarfree_diet, levels=c('0','1'), labels=c('No','Yes'))"
   ]
  },
  {
   "cell_type": "markdown",
   "metadata": {},
   "source": [
    "# 4) Descriptive statistics"
   ]
  },
  {
   "cell_type": "markdown",
   "metadata": {},
   "source": [
    "Here's a view of the six first rows of `nhanes_query` now that we have modified the variables:"
   ]
  },
  {
   "cell_type": "code",
   "execution_count": 19,
   "metadata": {
    "collapsed": false
   },
   "outputs": [
    {
     "data": {
      "text/html": [
       "<table>\n",
       "<thead><tr><th scope=col>patient_id</th><th scope=col>sex</th><th scope=col>sugarfree_diet</th><th scope=col>age</th><th scope=col>waist_circumference</th><th scope=col>body_mass_index</th></tr></thead>\n",
       "<tbody>\n",
       "\t<tr><td> 2   </td><td>male </td><td>No   </td><td>85   </td><td> 99.4</td><td>26.32</td></tr>\n",
       "\t<tr><td> 5   </td><td>male </td><td>No   </td><td>18   </td><td>   NA</td><td>22.58</td></tr>\n",
       "\t<tr><td> 7   </td><td>male </td><td>No   </td><td>31   </td><td>110.1</td><td>33.09</td></tr>\n",
       "\t<tr><td> 9   </td><td>male </td><td>No   </td><td>52   </td><td> 90.2</td><td>21.10</td></tr>\n",
       "\t<tr><td>10   </td><td>male </td><td>NA   </td><td>25   </td><td>103.2</td><td>30.12</td></tr>\n",
       "\t<tr><td>18   </td><td>male </td><td>NA   </td><td>40   </td><td>100.0</td><td>28.97</td></tr>\n",
       "</tbody>\n",
       "</table>\n"
      ],
      "text/latex": [
       "\\begin{tabular}{r|llllll}\n",
       " patient\\_id & sex & sugarfree\\_diet & age & waist\\_circumference & body\\_mass\\_index\\\\\n",
       "\\hline\n",
       "\t  2    & male  & No    & 85    &  99.4 & 26.32\\\\\n",
       "\t  5    & male  & No    & 18    &    NA & 22.58\\\\\n",
       "\t  7    & male  & No    & 31    & 110.1 & 33.09\\\\\n",
       "\t  9    & male  & No    & 52    &  90.2 & 21.10\\\\\n",
       "\t 10    & male  & NA    & 25    & 103.2 & 30.12\\\\\n",
       "\t 18    & male  & NA    & 40    & 100.0 & 28.97\\\\\n",
       "\\end{tabular}\n"
      ],
      "text/markdown": [
       "\n",
       "patient_id | sex | sugarfree_diet | age | waist_circumference | body_mass_index | \n",
       "|---|---|---|---|---|---|\n",
       "|  2    | male  | No    | 85    |  99.4 | 26.32 | \n",
       "|  5    | male  | No    | 18    |    NA | 22.58 | \n",
       "|  7    | male  | No    | 31    | 110.1 | 33.09 | \n",
       "|  9    | male  | No    | 52    |  90.2 | 21.10 | \n",
       "| 10    | male  | NA    | 25    | 103.2 | 30.12 | \n",
       "| 18    | male  | NA    | 40    | 100.0 | 28.97 | \n",
       "\n",
       "\n"
      ],
      "text/plain": [
       "  patient_id sex  sugarfree_diet age waist_circumference body_mass_index\n",
       "1  2         male No             85   99.4               26.32          \n",
       "2  5         male No             18     NA               22.58          \n",
       "3  7         male No             31  110.1               33.09          \n",
       "4  9         male No             52   90.2               21.10          \n",
       "5 10         male NA             25  103.2               30.12          \n",
       "6 18         male NA             40  100.0               28.97          "
      ]
     },
     "metadata": {},
     "output_type": "display_data"
    }
   ],
   "source": [
    "head(nhanes_query)"
   ]
  },
  {
   "cell_type": "markdown",
   "metadata": {},
   "source": [
    "## a) Description of variables"
   ]
  },
  {
   "cell_type": "markdown",
   "metadata": {},
   "source": [
    "The following meaning of the variables are provided according to the CDC NHANES website(https://www.cdc.gov/nchs/nhanes/index.htm):\n",
    "\n",
    "- `patient_id` : anonymous unique identifier of individuals\n",
    "- `sex` : male / female\n",
    "- `high_fiber_diet` : yes (the individual has a high fiber diet) / no (the individual does not have a high fiber diet)\n",
    "- `age` : age of individuals in years\n",
    "- `waist_circumference` : waist circumference of indviduals in cm\n",
    "- `body_mass_index` : Body mass index of individual in kg/m^2"
   ]
  },
  {
   "cell_type": "markdown",
   "metadata": {},
   "source": [
    "Below you can see a basic statistics summary of our dataset :"
   ]
  },
  {
   "cell_type": "code",
   "execution_count": 20,
   "metadata": {
    "collapsed": false
   },
   "outputs": [
    {
     "name": "stdout",
     "output_type": "stream",
     "text": [
      "Description of nhanes_query[, -1] \n"
     ]
    },
    {
     "data": {
      "text/plain": [
       "\n",
       " Numeric \n",
       "                     mean    sd median   min    max valid.n\n",
       "age                 29.25 24.80   19.0  0.00  85.00   41474\n",
       "waist_circumference 85.04 21.01   85.3 32.00 175.00   34409\n",
       "body_mass_index     24.94  7.19   24.2  7.99 130.21   35108\n",
       "\n",
       " Factor \n",
       "         \n",
       "sex         female     male\n",
       "  Count   21210.00 20264.00\n",
       "  Percent    51.14    48.86\n",
       "Mode female \n",
       "              \n",
       "sugarfree_diet     <NA>       No    Yes\n",
       "       Count   21881.00 19482.00 111.00\n",
       "       Percent    52.76    46.97   0.27\n",
       "Mode NA "
      ]
     },
     "metadata": {},
     "output_type": "display_data"
    }
   ],
   "source": [
    "describe(nhanes_query[, -1], num.desc = c(\"mean\", \"sd\", \"median\", \"min\", \"max\", \"valid.n\"))"
   ]
  },
  {
   "cell_type": "markdown",
   "metadata": {},
   "source": [
    "## b) Gender distribution"
   ]
  },
  {
   "cell_type": "code",
   "execution_count": 21,
   "metadata": {
    "collapsed": false
   },
   "outputs": [
    {
     "data": {
      "text/plain": [
       "\n",
       "female   male \n",
       " 21210  20264 "
      ]
     },
     "metadata": {},
     "output_type": "display_data"
    }
   ],
   "source": [
    "gender_distribution <- table(nhanes_query$sex)\n",
    "\n",
    "gender_distribution"
   ]
  },
  {
   "cell_type": "code",
   "execution_count": 22,
   "metadata": {
    "collapsed": false
   },
   "outputs": [
    {
     "data": {
      "text/plain": [
       "\n",
       "female   male \n",
       "  51.1   48.9 "
      ]
     },
     "metadata": {},
     "output_type": "display_data"
    }
   ],
   "source": [
    "gender_proportion<- round(100*gender_distribution/sum(gender_distribution), 1)\n",
    "\n",
    "gender_proportion"
   ]
  },
  {
   "cell_type": "markdown",
   "metadata": {},
   "source": [
    "There are 21210 females (51.1%) and 20264 males (48.9%)."
   ]
  },
  {
   "cell_type": "code",
   "execution_count": 23,
   "metadata": {
    "collapsed": false
   },
   "outputs": [
    {
     "data": {
      "image/png": "[encoded data removed]",
      "text/plain": [
       "Plot with title “Gender distribution”"
      ]
     },
     "metadata": {},
     "output_type": "display_data"
    }
   ],
   "source": [
    "gender_percent <- paste(gender_proportion,\"%\",sep=\"\")\n",
    "\n",
    "pie(gender_distribution, labels = gender_percent, main = \"Gender distribution\", col = c(\"pink\", \"blue\"))\n",
    "legend(\"topright\", c(\"female\", \"male\"), fill = c(\"pink\", \"blue\"))"
   ]
  },
  {
   "cell_type": "markdown",
   "metadata": {},
   "source": [
    "## c) Age according to gender distribution"
   ]
  },
  {
   "cell_type": "code",
   "execution_count": 24,
   "metadata": {
    "collapsed": false
   },
   "outputs": [
    {
     "data": {
      "text/html": [
       "<table>\n",
       "<thead><tr><th scope=col>sex</th><th scope=col>first_quantile_age</th><th scope=col>median_age</th><th scope=col>third_quantile_age</th></tr></thead>\n",
       "<tbody>\n",
       "\t<tr><td>female</td><td>10    </td><td>20    </td><td>47.00 </td></tr>\n",
       "\t<tr><td>male  </td><td> 9    </td><td>19    </td><td>47.25 </td></tr>\n",
       "</tbody>\n",
       "</table>\n"
      ],
      "text/latex": [
       "\\begin{tabular}{r|llll}\n",
       " sex & first\\_quantile\\_age & median\\_age & third\\_quantile\\_age\\\\\n",
       "\\hline\n",
       "\t female & 10     & 20     & 47.00 \\\\\n",
       "\t male   &  9     & 19     & 47.25 \\\\\n",
       "\\end{tabular}\n"
      ],
      "text/markdown": [
       "\n",
       "sex | first_quantile_age | median_age | third_quantile_age | \n",
       "|---|---|\n",
       "| female | 10     | 20     | 47.00  | \n",
       "| male   |  9     | 19     | 47.25  | \n",
       "\n",
       "\n"
      ],
      "text/plain": [
       "  sex    first_quantile_age median_age third_quantile_age\n",
       "1 female 10                 20         47.00             \n",
       "2 male    9                 19         47.25             "
      ]
     },
     "metadata": {},
     "output_type": "display_data"
    },
    {
     "data": {
      "image/png": "[encoded data removed]",
      "text/plain": [
       "Plot with title “Boxplot of age distribution by gender”"
      ]
     },
     "metadata": {},
     "output_type": "display_data"
    }
   ],
   "source": [
    "nhanes_query %>% group_by(sex)%>% summarise(first_quantile_age = quantile(age, probs = 0.25, na.rm = TRUE), median_age = median(age, na.rm = TRUE), third_quantile_age = quantile(age, probs = 0.75, na.rm = TRUE))\n",
    "\n",
    "boxplot(age~sex, data = nhanes_query, main = \"Boxplot of age distribution by gender\", xlab = \"Gender\", ylab = \"Age in years\", col = c(\"pink\", \"blue\"))"
   ]
  },
  {
   "cell_type": "markdown",
   "metadata": {},
   "source": [
    "The output above shows similar distributions of age in males and females."
   ]
  },
  {
   "cell_type": "markdown",
   "metadata": {},
   "source": [
    "## d) Body mass index (BMI) according to gender"
   ]
  },
  {
   "cell_type": "code",
   "execution_count": 25,
   "metadata": {
    "collapsed": false
   },
   "outputs": [
    {
     "data": {
      "text/html": [
       "<table>\n",
       "<thead><tr><th scope=col>sex</th><th scope=col>first_quantile_bmi</th><th scope=col>median_bmi</th><th scope=col>third_quantile_bmi</th></tr></thead>\n",
       "<tbody>\n",
       "\t<tr><td>female</td><td>19.64 </td><td>24.22 </td><td>29.73 </td></tr>\n",
       "\t<tr><td>male  </td><td>19.30 </td><td>24.17 </td><td>28.60 </td></tr>\n",
       "</tbody>\n",
       "</table>\n"
      ],
      "text/latex": [
       "\\begin{tabular}{r|llll}\n",
       " sex & first\\_quantile\\_bmi & median\\_bmi & third\\_quantile\\_bmi\\\\\n",
       "\\hline\n",
       "\t female & 19.64  & 24.22  & 29.73 \\\\\n",
       "\t male   & 19.30  & 24.17  & 28.60 \\\\\n",
       "\\end{tabular}\n"
      ],
      "text/markdown": [
       "\n",
       "sex | first_quantile_bmi | median_bmi | third_quantile_bmi | \n",
       "|---|---|\n",
       "| female | 19.64  | 24.22  | 29.73  | \n",
       "| male   | 19.30  | 24.17  | 28.60  | \n",
       "\n",
       "\n"
      ],
      "text/plain": [
       "  sex    first_quantile_bmi median_bmi third_quantile_bmi\n",
       "1 female 19.64              24.22      29.73             \n",
       "2 male   19.30              24.17      28.60             "
      ]
     },
     "metadata": {},
     "output_type": "display_data"
    },
    {
     "data": {
      "image/png": "[encoded data removed]",
      "text/plain": [
       "Plot with title “Boxplot of BMI distibution by gender”"
      ]
     },
     "metadata": {},
     "output_type": "display_data"
    }
   ],
   "source": [
    "nhanes_query %>% group_by(sex)%>% summarise(first_quantile_bmi = quantile(body_mass_index, probs = 0.25, na.rm = TRUE), median_bmi = median(body_mass_index, na.rm = TRUE), third_quantile_bmi = quantile(body_mass_index, probs = 0.75, na.rm = TRUE))\n",
    "\n",
    "boxplot(body_mass_index~sex, data = nhanes_query, main = \"Boxplot of BMI distibution by gender\", xlab = \"Gender\", ylab = \"BMI in kg/m^2\", col = c(\"pink\", \"blue\"))"
   ]
  },
  {
   "cell_type": "markdown",
   "metadata": {},
   "source": [
    "BMI distribution of females is slightly more widespread than males distribution."
   ]
  },
  {
   "cell_type": "markdown",
   "metadata": {},
   "source": [
    "# 5) Statistical analysis"
   ]
  },
  {
   "cell_type": "markdown",
   "metadata": {},
   "source": [
    "We are here exploring if there is a relationship between having a sugarfree diet and the waist circumference. In this study, measurements are performed for individuals over 2 years old."
   ]
  },
  {
   "cell_type": "markdown",
   "metadata": {},
   "source": [
    "For better clarity, let's subset a new dataset comprising only those individuals."
   ]
  },
  {
   "cell_type": "code",
   "execution_count": 26,
   "metadata": {
    "collapsed": true
   },
   "outputs": [],
   "source": [
    "nhanes_over_two <- nhanes_query %>% filter(age >=2)"
   ]
  },
  {
   "cell_type": "code",
   "execution_count": 27,
   "metadata": {
    "collapsed": false
   },
   "outputs": [
    {
     "data": {
      "text/html": [
       "<ol class=list-inline>\n",
       "\t<li>38124</li>\n",
       "\t<li>6</li>\n",
       "</ol>\n"
      ],
      "text/latex": [
       "\\begin{enumerate*}\n",
       "\\item 38124\n",
       "\\item 6\n",
       "\\end{enumerate*}\n"
      ],
      "text/markdown": [
       "1. 38124\n",
       "2. 6\n",
       "\n",
       "\n"
      ],
      "text/plain": [
       "[1] 38124     6"
      ]
     },
     "metadata": {},
     "output_type": "display_data"
    }
   ],
   "source": [
    "#quick check of the number of observations and variables\n",
    "dim(nhanes_over_two)"
   ]
  },
  {
   "cell_type": "markdown",
   "metadata": {},
   "source": [
    "We have now generated our new dataset with 38 124 individuals (over 2 years old) and the same 6 variables from the previous dataset.\n",
    "You can see below a basic statistics summary :"
   ]
  },
  {
   "cell_type": "code",
   "execution_count": 28,
   "metadata": {
    "collapsed": false
   },
   "outputs": [
    {
     "name": "stdout",
     "output_type": "stream",
     "text": [
      "Description of nhanes_over_two[, -1] \n"
     ]
    },
    {
     "data": {
      "text/plain": [
       "\n",
       " Numeric \n",
       "                     mean    sd median   min    max valid.n\n",
       "age                 31.79 24.28   23.0  2.00  85.00   38124\n",
       "waist_circumference 85.05 21.01   85.3 32.00 175.00   34408\n",
       "body_mass_index     24.94  7.19   24.2  7.99 130.21   35108\n",
       "\n",
       " Factor \n",
       "         \n",
       "sex         female     male\n",
       "  Count   19636.00 18488.00\n",
       "  Percent    51.51    48.49\n",
       "Mode female \n",
       "              \n",
       "sugarfree_diet     <NA>       No    Yes\n",
       "       Count   20183.00 17831.00 110.00\n",
       "       Percent    52.94    46.77   0.29\n",
       "Mode NA "
      ]
     },
     "metadata": {},
     "output_type": "display_data"
    }
   ],
   "source": [
    "describe(nhanes_over_two[, -1], num.desc = c(\"mean\", \"sd\", \"median\", \"min\", \"max\", \"valid.n\"))"
   ]
  },
  {
   "cell_type": "markdown",
   "metadata": {},
   "source": [
    "We can see that there are missing values in every variables except from `age` and `sex`.\n",
    "\n",
    "**Missing values in `sugarfree_diet` and `waist_circumference` respectively represent more than 50% and around 10% of the observations.**"
   ]
  },
  {
   "cell_type": "markdown",
   "metadata": {},
   "source": [
    "## a) What are the means of waist circumference in both groups ?"
   ]
  },
  {
   "cell_type": "code",
   "execution_count": 29,
   "metadata": {
    "collapsed": false
   },
   "outputs": [
    {
     "data": {
      "text/html": [
       "<table>\n",
       "<thead><tr><th scope=col>sugarfree_diet</th><th scope=col>count</th><th scope=col>mean</th></tr></thead>\n",
       "<tbody>\n",
       "\t<tr><td>No       </td><td>17831    </td><td> 85.42428</td></tr>\n",
       "\t<tr><td>Yes      </td><td>  110    </td><td>100.86698</td></tr>\n",
       "\t<tr><td>NA       </td><td>20183    </td><td> 84.57783</td></tr>\n",
       "</tbody>\n",
       "</table>\n"
      ],
      "text/latex": [
       "\\begin{tabular}{r|lll}\n",
       " sugarfree\\_diet & count & mean\\\\\n",
       "\\hline\n",
       "\t No        & 17831     &  85.42428\\\\\n",
       "\t Yes       &   110     & 100.86698\\\\\n",
       "\t NA        & 20183     &  84.57783\\\\\n",
       "\\end{tabular}\n"
      ],
      "text/markdown": [
       "\n",
       "sugarfree_diet | count | mean | \n",
       "|---|---|---|\n",
       "| No        | 17831     |  85.42428 | \n",
       "| Yes       |   110     | 100.86698 | \n",
       "| NA        | 20183     |  84.57783 | \n",
       "\n",
       "\n"
      ],
      "text/plain": [
       "  sugarfree_diet count mean     \n",
       "1 No             17831  85.42428\n",
       "2 Yes              110 100.86698\n",
       "3 NA             20183  84.57783"
      ]
     },
     "metadata": {},
     "output_type": "display_data"
    }
   ],
   "source": [
    "nhanes_over_two %>% group_by(sugarfree_diet)%>% summarise(count = n(), mean = mean(waist_circumference, na.rm = TRUE))"
   ]
  },
  {
   "cell_type": "markdown",
   "metadata": {},
   "source": [
    "It is important to take into consideration that **3716** observations with missing values in `waist_circumference` were exluded (`na.rm = TRUE`) in order to compute means (_run the code below to get this number_)."
   ]
  },
  {
   "cell_type": "code",
   "execution_count": 30,
   "metadata": {
    "collapsed": false
   },
   "outputs": [
    {
     "data": {
      "text/html": [
       "3716"
      ],
      "text/latex": [
       "3716"
      ],
      "text/markdown": [
       "3716"
      ],
      "text/plain": [
       "[1] 3716"
      ]
     },
     "metadata": {},
     "output_type": "display_data"
    }
   ],
   "source": [
    "nhanes_over_two %>% filter(is.na(nhanes_over_two$waist_circumference))%>% nrow()"
   ]
  },
  {
   "cell_type": "markdown",
   "metadata": {},
   "source": [
    "## b) Test the hypothesis ( wilcoxon test )"
   ]
  },
  {
   "cell_type": "code",
   "execution_count": 31,
   "metadata": {
    "collapsed": false
   },
   "outputs": [
    {
     "data": {
      "text/plain": [
       "\n",
       "\tWilcoxon rank sum test with continuity correction\n",
       "\n",
       "data:  waist_circumference by sugarfree_diet\n",
       "W = 532500, p-value = 4.247e-13\n",
       "alternative hypothesis: true location shift is not equal to 0\n",
       "95 percent confidence interval:\n",
       " -19.60005 -11.40002\n",
       "sample estimates:\n",
       "difference in location \n",
       "             -15.50001 \n"
      ]
     },
     "metadata": {},
     "output_type": "display_data"
    }
   ],
   "source": [
    "wilcox.test(waist_circumference~sugarfree_diet, conf.int=TRUE, data = nhanes_over_two)"
   ]
  },
  {
   "cell_type": "markdown",
   "metadata": {},
   "source": [
    "The output above shows a statistically significant association between having a sugarfree diet and the waist circumference ( IC95 = [11,4; 19.6]; p< 0.001) in our sample of individuals over 2 years old with no imputation for missing values. People under a sugarfee diet tend to have a higher waist circumference in this sample.\n",
    "We can not draw any causality statement from this analysis since the design of the study (observational study) does not allow it. Plus it is important to stress the weakness of the results due to the high number of missing values."
   ]
  },
  {
   "cell_type": "markdown",
   "metadata": {},
   "source": [
    "**This notebook is only intended as an illustration of a basic statistical analysis in our attempt to create a reproducible and F.A.I.R (findable, accessible, interoperable and reusable) statistical analysis.**"
   ]
  }
 ],
 "metadata": {
  "kernelspec": {
   "display_name": "R",
   "language": "R",
   "name": "ir"
  },
  "language_info": {
   "codemirror_mode": "r",
   "file_extension": ".r",
   "mimetype": "text/x-r-source",
   "name": "R",
   "pygments_lexer": "r",
   "version": "3.3.1"
  }
 },
 "nbformat": 4,
 "nbformat_minor": 1
}
